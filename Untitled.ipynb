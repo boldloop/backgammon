{
 "cells": [
  {
   "cell_type": "code",
   "execution_count": 1,
   "metadata": {},
   "outputs": [],
   "source": [
    "from matplotlib import pyplot as plt"
   ]
  },
  {
   "cell_type": "code",
   "execution_count": 7,
   "metadata": {},
   "outputs": [
    {
     "data": {
      "text/plain": [
       "[<matplotlib.lines.Line2D at 0x1150d76a0>]"
      ]
     },
     "execution_count": 7,
     "metadata": {},
     "output_type": "execute_result"
    },
    {
     "data": {
      "image/png": "[encoded data removed]",
      "text/plain": [
       "<Figure size 432x288 with 1 Axes>"
      ]
     },
     "metadata": {
      "needs_background": "light"
     },
     "output_type": "display_data"
    }
   ],
   "source": [
    "with open('logs/games.txt', 'r') as games:\n",
    "    steps_per_game = [int(game) for game in games.readlines()]\n",
    "plt.plot(steps_per_game[:3000])"
   ]
  },
  {
   "cell_type": "code",
   "execution_count": 4,
   "metadata": {},
   "outputs": [
    {
     "name": "stdout",
     "output_type": "stream",
     "text": [
      "Counter({64: 331, 57: 328, 61: 328, 66: 326, 60: 319, 59: 318, 65: 314, 53: 307, 58: 306, 56: 301, 52: 300, 67: 297, 70: 297, 62: 290, 54: 289, 69: 288, 63: 287, 71: 286, 55: 284, 73: 282, 51: 279, 68: 273, 49: 251, 72: 251, 76: 245, 50: 236, 74: 235, 77: 230, 75: 224, 48: 219, 82: 217, 47: 216, 80: 208, 79: 204, 83: 200, 78: 189, 45: 184, 81: 180, 85: 179, 46: 167, 84: 164, 87: 160, 86: 155, 89: 147, 88: 143, 44: 140, 92: 139, 43: 138, 90: 130, 93: 126, 95: 120, 91: 116, 97: 105, 94: 104, 96: 101, 103: 97, 102: 93, 41: 90, 98: 87, 100: 86, 99: 85, 101: 80, 42: 79, 106: 71, 105: 70, 107: 67, 109: 65, 104: 59, 108: 56, 40: 55, 114: 54, 110: 51, 115: 51, 112: 51, 39: 51, 116: 48, 113: 46, 111: 42, 38: 42, 120: 41, 117: 36, 124: 35, 118: 29, 122: 28, 119: 27, 121: 27, 131: 26, 123: 26, 125: 25, 129: 24, 132: 23, 126: 23, 128: 20, 133: 19, 137: 19, 36: 18, 142: 17, 134: 16, 130: 15, 138: 15, 135: 15, 139: 14, 136: 13, 37: 13, 127: 12, 35: 10, 156: 9, 153: 9, 144: 9, 140: 9, 146: 8, 152: 8, 150: 8, 161: 7, 143: 7, 154: 6, 151: 6, 160: 6, 148: 6, 168: 6, 147: 6, 155: 6, 141: 6, 34: 6, 193: 5, 211: 5, 158: 5, 197: 5, 169: 5, 145: 5, 159: 5, 157: 5, 165: 5, 162: 5, 180: 4, 196: 4, 185: 4, 166: 4, 164: 4, 173: 4, 163: 4, 33: 4, 271: 3, 189: 3, 206: 3, 242: 3, 182: 3, 176: 3, 209: 3, 179: 3, 183: 3, 202: 3, 187: 3, 170: 3, 178: 3, 171: 3, 149: 3, 32: 3, 291: 2, 225: 2, 210: 2, 220: 2, 300: 2, 256: 2, 167: 2, 172: 2, 191: 2, 250: 2, 190: 2, 208: 2, 221: 2, 188: 2, 229: 2, 195: 2, 458: 1, 573: 1, 275: 1, 574: 1, 237: 1, 417: 1, 334: 1, 335: 1, 759: 1, 1563: 1, 385: 1, 713: 1, 272: 1, 258: 1, 557: 1, 316: 1, 327: 1, 268: 1, 231: 1, 270: 1, 194: 1, 261: 1, 298: 1, 372: 1, 442: 1, 248: 1, 1290: 1, 281: 1, 284: 1, 224: 1, 322: 1, 436: 1, 239: 1, 412: 1, 233: 1, 861: 1, 290: 1, 249: 1, 245: 1, 1075: 1, 305: 1, 207: 1, 452: 1, 223: 1, 1014: 1, 600: 1, 877: 1, 1691: 1, 366: 1, 753: 1, 1525: 1, 407: 1, 936: 1, 791: 1, 1008: 1, 526: 1, 343: 1, 336: 1, 325: 1, 369: 1, 297: 1, 219: 1, 295: 1, 315: 1, 356: 1, 241: 1, 175: 1, 611: 1, 205: 1, 240: 1, 354: 1, 212: 1, 201: 1, 262: 1, 228: 1, 280: 1, 238: 1, 314: 1, 243: 1, 216: 1, 410: 1, 214: 1, 398: 1, 246: 1, 310: 1, 186: 1, 252: 1, 227: 1, 192: 1, 276: 1, 31: 1, 217: 1, 198: 1, 265: 1, 244: 1})\n"
     ]
    }
   ],
   "source": [
    "from collections import Counter\n",
    "print(Counter(steps_per_game))"
   ]
  },
  {
   "cell_type": "code",
   "execution_count": 5,
   "metadata": {},
   "outputs": [
    {
     "data": {
      "text/plain": [
       "31"
      ]
     },
     "execution_count": 5,
     "metadata": {},
     "output_type": "execute_result"
    }
   ],
   "source": [
    "min(steps_per_game)"
   ]
  },
  {
   "cell_type": "code",
   "execution_count": 1,
   "metadata": {},
   "outputs": [],
   "source": [
    "from trainer import train"
   ]
  },
  {
   "cell_type": "code",
   "execution_count": 2,
   "metadata": {},
   "outputs": [
    {
     "name": "stdout",
     "output_type": "stream",
     "text": [
      "2020-05-22 11:42:57.558978\n",
      "0 1 0.0\n",
      " "
     ]
    }
   ],
   "source": [
    "%prun train(10)"
   ]
  },
  {
   "cell_type": "code",
   "execution_count": 3,
   "metadata": {},
   "outputs": [],
   "source": [
    "%load_ext autoreload"
   ]
  },
  {
   "cell_type": "code",
   "execution_count": 5,
   "metadata": {},
   "outputs": [],
   "source": [
    "%aimport Board"
   ]
  },
  {
   "cell_type": "code",
   "execution_count": 1,
   "metadata": {},
   "outputs": [],
   "source": [
    "from Board import Board, str_from_board, state_from_play, play_gen, check_plays"
   ]
  },
  {
   "cell_type": "code",
   "execution_count": 74,
   "metadata": {},
   "outputs": [],
   "source": [
    "board = Board()"
   ]
  },
  {
   "cell_type": "code",
   "execution_count": 75,
   "metadata": {},
   "outputs": [
    {
     "name": "stdout",
     "output_type": "stream",
     "text": [
      "[((24, 2), (13, 5)), ((13, 2), (11, 5)), ((6, 2), (8, 5)), ((8, 5), (24, 2)), ((8, 5), (13, 2)), ((13, 2), (13, 5)), ((8, 2), (13, 5)), ((8, 5), (8, 2)), ((6, 2), (13, 5))]\n"
     ]
    },
    {
     "data": {
      "text/plain": [
       "[{'white': {24: 1, 13: 4, 8: 4, 6: 5, 22: 1},\n",
       "  'black': {24: 2, 13: 5, 8: 3, 6: 5}},\n",
       " {'white': {24: 2, 13: 4, 8: 3, 6: 6}, 'black': {24: 2, 13: 5, 8: 3, 6: 5}},\n",
       " {'white': {24: 2, 13: 5, 8: 2, 6: 4, 4: 1, 3: 1},\n",
       "  'black': {24: 2, 13: 5, 8: 3, 6: 5}},\n",
       " {'white': {24: 1, 13: 5, 8: 2, 6: 5, 3: 1, 22: 1},\n",
       "  'black': {24: 2, 13: 5, 8: 3, 6: 5}},\n",
       " {'white': {24: 2, 13: 4, 8: 2, 6: 5, 3: 1, 11: 1},\n",
       "  'black': {24: 2, 13: 5, 8: 3, 6: 5}},\n",
       " {'white': {24: 2, 13: 3, 8: 4, 6: 5, 11: 1},\n",
       "  'black': {24: 2, 13: 5, 8: 3, 6: 5}},\n",
       " {'white': {24: 2, 13: 4, 8: 3, 6: 6}, 'black': {24: 2, 13: 5, 8: 3, 6: 5}},\n",
       " {'white': {24: 2, 13: 5, 8: 1, 6: 6, 3: 1},\n",
       "  'black': {24: 2, 13: 5, 8: 3, 6: 5}},\n",
       " {'white': {24: 2, 13: 4, 8: 4, 6: 4, 4: 1},\n",
       "  'black': {24: 2, 13: 5, 8: 3, 6: 5}}]"
      ]
     },
     "execution_count": 75,
     "metadata": {},
     "output_type": "execute_result"
    }
   ],
   "source": [
    "board.getMoves((5, 2), 'white')"
   ]
  },
  {
   "cell_type": "code",
   "execution_count": 25,
   "metadata": {},
   "outputs": [
    {
     "name": "stdout",
     "output_type": "stream",
     "text": [
      "The autoreload extension is already loaded. To reload it, use:\n",
      "  %reload_ext autoreload\n"
     ]
    }
   ],
   "source": [
    "%load_ext autoreload\n",
    "%autoreload"
   ]
  },
  {
   "cell_type": "code",
   "execution_count": 48,
   "metadata": {},
   "outputs": [
    {
     "data": {
      "text/plain": [
       "{'white': {13: 3, 8: 3, 6: 5, 18: 2, 7: 2},\n",
       " 'black': {24: 2, 13: 5, 8: 3, 6: 5}}"
      ]
     },
     "execution_count": 48,
     "metadata": {},
     "output_type": "execute_result"
    }
   ],
   "source": [
    "board.getBoard()"
   ]
  },
  {
   "cell_type": "code",
   "execution_count": 45,
   "metadata": {},
   "outputs": [
    {
     "name": "stdout",
     "output_type": "stream",
     "text": [
      " 12  11  10   9   8   7       6   5   4   3   2   1\n",
      "+---+---+---+---+---+---+---+---+---+---+---+---+---+\n",
      "| B                   W |   | W               W   B | W's home\n",
      "| B                   W |   | W               W   B | |       |\n",
      "| B                   W |   | W               W     | |       |\n",
      "| B                   W |   | W                     | |       |\n",
      "| B                   W |   | W                     |\n",
      "|                       |   |                       |\n",
      "|                       |   |                       |\n",
      "|                       |   |                       |\n",
      "|                       |   |                       |\n",
      "|                       |   | B                     |\n",
      "|                       |   | B                     | |       |\n",
      "|                 B     |   | B                     | |       |\n",
      "|                 B   W |   | B                     | |       |\n",
      "|                 B   W |   | B                     | B's home\n",
      "+---+---+---+---+---+---+---+---+---+---+---+---+---+\n",
      " 13  14  15  16  17  18      19  20  21  22  23  24\n"
     ]
    }
   ],
   "source": [
    "print(board)"
   ]
  },
  {
   "cell_type": "code",
   "execution_count": 67,
   "metadata": {},
   "outputs": [
    {
     "data": {
      "text/plain": [
       "17"
      ]
     },
     "execution_count": 67,
     "metadata": {},
     "output_type": "execute_result"
    }
   ],
   "source": [
    "len([[(13, 5), (24, 2)], [(13, 5), (13, 2)], [(13, 5), (8, 2)], [(13, 5), (6, 2)], [(8, 5), (24, 2)], [(8, 5), (13, 2)], [(8, 5), (8, 2)], [(8, 5), (6, 2)], [(24, 2), (13, 5)], [(24, 2), (8, 5)], [(13, 2), (13, 5)], [(13, 2), (8, 5)], [(13, 2), (11, 5)], [(8, 2), (13, 5)], [(8, 2), (8, 5)], [(6, 2), (13, 5)], [(6, 2), (8, 5)]])"
   ]
  },
  {
   "cell_type": "code",
   "execution_count": 76,
   "metadata": {},
   "outputs": [
    {
     "data": {
      "text/plain": [
       "9"
      ]
     },
     "execution_count": 76,
     "metadata": {},
     "output_type": "execute_result"
    }
   ],
   "source": [
    "len([((24, 2), (13, 5)), ((13, 2), (11, 5)), ((6, 2), (8, 5)), ((8, 5), (24, 2)), ((8, 5), (13, 2)), ((13, 2), (13, 5)), ((8, 2), (13, 5)), ((8, 5), (8, 2)), ((6, 2), (13, 5))])"
   ]
  },
  {
   "cell_type": "code",
   "execution_count": 78,
   "metadata": {
    "collapsed": true
   },
   "outputs": [
    {
     "name": "stdout",
     "output_type": "stream",
     "text": [
      "[((24, 2), (13, 5)), ((13, 2), (11, 5)), ((6, 2), (8, 5)), ((8, 5), (24, 2)), ((8, 5), (13, 2)), ((13, 2), (13, 5)), ((8, 2), (13, 5)), ((8, 5), (8, 2)), ((6, 2), (13, 5))]\n",
      " 12  11  10   9   8   7       6   5   4   3   2   1\n",
      "+---+---+---+---+---+---+---+---+---+---+---+---+---+\n",
      "| B               W     |   | W                   B | W's home\n",
      "| B               W     |   | W                   B | |       |\n",
      "| B               W     |   | W                     | |       |\n",
      "| B               W     |   | W                     | |       |\n",
      "| B                     |   | W                     |\n",
      "|                       |   |                       |\n",
      "|                       |   |                       |\n",
      "|                       |   |                       |\n",
      "|                       |   |                       |\n",
      "|                       |   | B                     |\n",
      "| W                     |   | B                     | |       |\n",
      "| W               B     |   | B                     | |       |\n",
      "| W               B     |   | B                     | |       |\n",
      "| W               B     |   | B           W       W | B's home\n",
      "+---+---+---+---+---+---+---+---+---+---+---+---+---+\n",
      " 13  14  15  16  17  18      19  20  21  22  23  24\n",
      "\n",
      "\n",
      " 12  11  10   9   8   7       6   5   4   3   2   1\n",
      "+---+---+---+---+---+---+---+---+---+---+---+---+---+\n",
      "| B               W     |   | W                   B | W's home\n",
      "| B               W     |   | W                   B | |       |\n",
      "| B               W     |   | W                     | |       |\n",
      "| B                     |   | W                     | |       |\n",
      "| B                     |   | W                     |\n",
      "|                       |   | W                     |\n",
      "|                       |   |                       |\n",
      "|                       |   |                       |\n",
      "|                       |   |                       |\n",
      "|                       |   | B                     |\n",
      "| W                     |   | B                     | |       |\n",
      "| W               B     |   | B                     | |       |\n",
      "| W               B     |   | B                   W | |       |\n",
      "| W               B     |   | B                   W | B's home\n",
      "+---+---+---+---+---+---+---+---+---+---+---+---+---+\n",
      " 13  14  15  16  17  18      19  20  21  22  23  24\n",
      "\n",
      "\n",
      " 12  11  10   9   8   7       6   5   4   3   2   1\n",
      "+---+---+---+---+---+---+---+---+---+---+---+---+---+\n",
      "| B               W     |   | W       W   W       B | W's home\n",
      "| B               W     |   | W                   B | |       |\n",
      "| B                     |   | W                     | |       |\n",
      "| B                     |   | W                     | |       |\n",
      "| B                     |   |                       |\n",
      "|                       |   |                       |\n",
      "|                       |   |                       |\n",
      "|                       |   |                       |\n",
      "|                       |   |                       |\n",
      "| W                     |   | B                     |\n",
      "| W                     |   | B                     | |       |\n",
      "| W               B     |   | B                     | |       |\n",
      "| W               B     |   | B                   W | |       |\n",
      "| W               B     |   | B                   W | B's home\n",
      "+---+---+---+---+---+---+---+---+---+---+---+---+---+\n",
      " 13  14  15  16  17  18      19  20  21  22  23  24\n",
      "\n",
      "\n",
      " 12  11  10   9   8   7       6   5   4   3   2   1\n",
      "+---+---+---+---+---+---+---+---+---+---+---+---+---+\n",
      "| B               W     |   | W           W       B | W's home\n",
      "| B               W     |   | W                   B | |       |\n",
      "| B                     |   | W                     | |       |\n",
      "| B                     |   | W                     | |       |\n",
      "| B                     |   | W                     |\n",
      "|                       |   |                       |\n",
      "|                       |   |                       |\n",
      "|                       |   |                       |\n",
      "|                       |   |                       |\n",
      "| W                     |   | B                     |\n",
      "| W                     |   | B                     | |       |\n",
      "| W               B     |   | B                     | |       |\n",
      "| W               B     |   | B                     | |       |\n",
      "| W               B     |   | B           W       W | B's home\n",
      "+---+---+---+---+---+---+---+---+---+---+---+---+---+\n",
      " 13  14  15  16  17  18      19  20  21  22  23  24\n",
      "\n",
      "\n",
      " 12  11  10   9   8   7       6   5   4   3   2   1\n",
      "+---+---+---+---+---+---+---+---+---+---+---+---+---+\n",
      "| B   W           W     |   | W           W       B | W's home\n",
      "| B               W     |   | W                   B | |       |\n",
      "| B                     |   | W                     | |       |\n",
      "| B                     |   | W                     | |       |\n",
      "| B                     |   | W                     |\n",
      "|                       |   |                       |\n",
      "|                       |   |                       |\n",
      "|                       |   |                       |\n",
      "|                       |   |                       |\n",
      "|                       |   | B                     |\n",
      "| W                     |   | B                     | |       |\n",
      "| W               B     |   | B                     | |       |\n",
      "| W               B     |   | B                   W | |       |\n",
      "| W               B     |   | B                   W | B's home\n",
      "+---+---+---+---+---+---+---+---+---+---+---+---+---+\n",
      " 13  14  15  16  17  18      19  20  21  22  23  24\n",
      "\n",
      "\n",
      " 12  11  10   9   8   7       6   5   4   3   2   1\n",
      "+---+---+---+---+---+---+---+---+---+---+---+---+---+\n",
      "| B   W           W     |   | W                   B | W's home\n",
      "| B               W     |   | W                   B | |       |\n",
      "| B               W     |   | W                     | |       |\n",
      "| B               W     |   | W                     | |       |\n",
      "| B                     |   | W                     |\n",
      "|                       |   |                       |\n",
      "|                       |   |                       |\n",
      "|                       |   |                       |\n",
      "|                       |   |                       |\n",
      "|                       |   | B                     |\n",
      "|                       |   | B                     | |       |\n",
      "| W               B     |   | B                     | |       |\n",
      "| W               B     |   | B                   W | |       |\n",
      "| W               B     |   | B                   W | B's home\n",
      "+---+---+---+---+---+---+---+---+---+---+---+---+---+\n",
      " 13  14  15  16  17  18      19  20  21  22  23  24\n",
      "\n",
      "\n",
      " 12  11  10   9   8   7       6   5   4   3   2   1\n",
      "+---+---+---+---+---+---+---+---+---+---+---+---+---+\n",
      "| B               W     |   | W                   B | W's home\n",
      "| B               W     |   | W                   B | |       |\n",
      "| B               W     |   | W                     | |       |\n",
      "| B                     |   | W                     | |       |\n",
      "| B                     |   | W                     |\n",
      "|                       |   | W                     |\n",
      "|                       |   |                       |\n",
      "|                       |   |                       |\n",
      "|                       |   |                       |\n",
      "|                       |   | B                     |\n",
      "| W                     |   | B                     | |       |\n",
      "| W               B     |   | B                     | |       |\n",
      "| W               B     |   | B                   W | |       |\n",
      "| W               B     |   | B                   W | B's home\n",
      "+---+---+---+---+---+---+---+---+---+---+---+---+---+\n",
      " 13  14  15  16  17  18      19  20  21  22  23  24\n",
      "\n",
      "\n",
      " 12  11  10   9   8   7       6   5   4   3   2   1\n",
      "+---+---+---+---+---+---+---+---+---+---+---+---+---+\n",
      "| B               W     |   | W           W       B | W's home\n",
      "| B                     |   | W                   B | |       |\n",
      "| B                     |   | W                     | |       |\n",
      "| B                     |   | W                     | |       |\n",
      "| B                     |   | W                     |\n",
      "|                       |   | W                     |\n",
      "|                       |   |                       |\n",
      "|                       |   |                       |\n",
      "|                       |   |                       |\n",
      "| W                     |   | B                     |\n",
      "| W                     |   | B                     | |       |\n",
      "| W               B     |   | B                     | |       |\n",
      "| W               B     |   | B                   W | |       |\n",
      "| W               B     |   | B                   W | B's home\n",
      "+---+---+---+---+---+---+---+---+---+---+---+---+---+\n",
      " 13  14  15  16  17  18      19  20  21  22  23  24\n",
      "\n",
      "\n",
      " 12  11  10   9   8   7       6   5   4   3   2   1\n",
      "+---+---+---+---+---+---+---+---+---+---+---+---+---+\n",
      "| B               W     |   | W       W           B | W's home\n",
      "| B               W     |   | W                   B | |       |\n",
      "| B               W     |   | W                     | |       |\n",
      "| B               W     |   | W                     | |       |\n",
      "| B                     |   |                       |\n",
      "|                       |   |                       |\n",
      "|                       |   |                       |\n",
      "|                       |   |                       |\n",
      "|                       |   |                       |\n",
      "|                       |   | B                     |\n",
      "| W                     |   | B                     | |       |\n",
      "| W               B     |   | B                     | |       |\n",
      "| W               B     |   | B                   W | |       |\n",
      "| W               B     |   | B                   W | B's home\n",
      "+---+---+---+---+---+---+---+---+---+---+---+---+---+\n",
      " 13  14  15  16  17  18      19  20  21  22  23  24\n"
     ]
    }
   ],
   "source": [
    "print('\\n\\n\\n'.join(map(str_from_board, board.getMoves((5, 2), 'white'))))"
   ]
  },
  {
   "cell_type": "code",
   "execution_count": 84,
   "metadata": {
    "scrolled": false
   },
   "outputs": [
    {
     "name": "stdout",
     "output_type": "stream",
     "text": [
      " "
     ]
    }
   ],
   "source": [
    "%%prun \n",
    "for i in range(10000):\n",
    "    board.getMoves((5, 2), 'white')"
   ]
  },
  {
   "cell_type": "code",
   "execution_count": 5,
   "metadata": {},
   "outputs": [],
   "source": [
    "from Board import str_ix_from_piece"
   ]
  },
  {
   "cell_type": "code",
   "execution_count": 10,
   "metadata": {},
   "outputs": [
    {
     "data": {
      "text/plain": [
       "(56, 13)"
      ]
     },
     "execution_count": 10,
     "metadata": {},
     "output_type": "execute_result"
    }
   ],
   "source": [
    "str_ix_from_piece(0, 6, 'black')"
   ]
  },
  {
   "cell_type": "code",
   "execution_count": 12,
   "metadata": {},
   "outputs": [],
   "source": [
    "starting_str = ''' 12  11  10   9   8   7       6   5   4   3   2   1\n",
    "+---+---+---+---+---+---+---+---+---+---+---+---+---+\n",
    "|                       |   |                       | W's home\n",
    "|                       |   |                       | |       |\n",
    "|                       |   |                       | |       |\n",
    "|                       |   |                       | |       |\n",
    "|                       |   |                       |\n",
    "|                       |   |                       |\n",
    "|                       |   |                       |\n",
    "|                       |   |                       |\n",
    "|                       |   |                       |\n",
    "|                       |   |                       |\n",
    "|                       |   |                       | |       |\n",
    "|                       |   |                       | |       |\n",
    "|                       |   |                       | |       |\n",
    "|                       |   |                       | B's home\n",
    "+---+---+---+---+---+---+---+---+---+---+---+---+---+\n",
    " 13  14  15  16  17  18      19  20  21  22  23  24'''\n",
    "out = starting_str.split('\\n')\n",
    "out = [list(line) for line in out]"
   ]
  },
  {
   "cell_type": "code",
   "execution_count": 14,
   "metadata": {},
   "outputs": [
    {
     "data": {
      "text/plain": [
       "' '"
      ]
     },
     "execution_count": 14,
     "metadata": {},
     "output_type": "execute_result"
    }
   ],
   "source": [
    "out[13][56]"
   ]
  },
  {
   "cell_type": "code",
   "execution_count": 26,
   "metadata": {},
   "outputs": [
    {
     "name": "stdout",
     "output_type": "stream",
     "text": [
      " 12  11  10   9   8   7       6   5   4   3   2   1\n",
      "+---+---+---+---+---+---+---+---+---+---+---+---+---+\n",
      "|                       |   |                       | W's home\n",
      "|                       |   |                       | | WWWWW |\n",
      "|                       |   |                       | | WWWWW |\n",
      "|                       |   |                       | | WWWWW |\n",
      "|                       |   |                       |\n",
      "|                       |   |                       |\n",
      "|                       |   |                       |\n",
      "|                       |   |                       |\n",
      "|                       |   |                       |\n",
      "|                       |   |                       |\n",
      "|                       |   |                       | | BBBBB |\n",
      "|                       |   |                       | | BBBBB |\n",
      "|                       |   |                       | | BBBBB |\n",
      "|                       |   |                       | B's home\n",
      "+---+---+---+---+---+---+---+---+---+---+---+---+---+\n",
      " 13  14  15  16  17  18      19  20  21  22  23  24\n"
     ]
    }
   ],
   "source": [
    "print(str_from_board({'white': {0:15}, 'black': {0:15}}))"
   ]
  },
  {
   "cell_type": "code",
   "execution_count": null,
   "metadata": {},
   "outputs": [],
   "source": []
  }
 ],
 "metadata": {
  "kernelspec": {
   "display_name": "Python 3",
   "language": "python",
   "name": "python3"
  },
  "language_info": {
   "codemirror_mode": {
    "name": "ipython",
    "version": 3
   },
   "file_extension": ".py",
   "mimetype": "text/x-python",
   "name": "python",
   "nbconvert_exporter": "python",
   "pygments_lexer": "ipython3",
   "version": "3.6.10"
  }
 },
 "nbformat": 4,
 "nbformat_minor": 4
}
